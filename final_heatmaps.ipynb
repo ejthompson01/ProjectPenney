{
 "cells": [
  {
   "cell_type": "code",
   "execution_count": 12,
   "metadata": {},
   "outputs": [
    {
     "ename": "ImportError",
     "evalue": "cannot import name 'simulate' from 'src.datagen' (/Users/elizabeththompson/Desktop/Junior_Year/Spring_2025/Automations_and_Workflows/projects/ProjectPenney/ProjectPenney/src/datagen.py)",
     "output_type": "error",
     "traceback": [
      "\u001b[0;31m---------------------------------------------------------------------------\u001b[0m",
      "\u001b[0;31mImportError\u001b[0m                               Traceback (most recent call last)",
      "Input \u001b[0;32mIn [12]\u001b[0m, in \u001b[0;36m<cell line: 1>\u001b[0;34m()\u001b[0m\n\u001b[0;32m----> 1\u001b[0m \u001b[38;5;28;01mfrom\u001b[39;00m \u001b[38;5;21;01msrc\u001b[39;00m\u001b[38;5;21;01m.\u001b[39;00m\u001b[38;5;21;01mdatagen\u001b[39;00m \u001b[38;5;28;01mimport\u001b[39;00m get_decks, game, simulate\n\u001b[1;32m      2\u001b[0m decks \u001b[38;5;241m=\u001b[39m get_decks(\u001b[38;5;241m123\u001b[39m, \u001b[38;5;241m100000\u001b[39m)\n",
      "\u001b[0;31mImportError\u001b[0m: cannot import name 'simulate' from 'src.datagen' (/Users/elizabeththompson/Desktop/Junior_Year/Spring_2025/Automations_and_Workflows/projects/ProjectPenney/ProjectPenney/src/datagen.py)"
     ]
    }
   ],
   "source": [
    "from src.datagen import get_decks, game, simulate\n",
    "decks = get_decks(123, 100000)"
   ]
  },
  {
   "cell_type": "code",
   "execution_count": null,
   "metadata": {},
   "outputs": [],
   "source": []
  }
 ],
 "metadata": {
  "kernelspec": {
   "display_name": "base",
   "language": "python",
   "name": "python3"
  },
  "language_info": {
   "codemirror_mode": {
    "name": "ipython",
    "version": 3
   },
   "file_extension": ".py",
   "mimetype": "text/x-python",
   "name": "python",
   "nbconvert_exporter": "python",
   "pygments_lexer": "ipython3",
   "version": "3.9.12"
  }
 },
 "nbformat": 4,
 "nbformat_minor": 2
}
