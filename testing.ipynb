{
 "cells": [
  {
   "cell_type": "code",
   "execution_count": 4,
   "metadata": {},
   "outputs": [
    {
     "ename": "AttributeError",
     "evalue": "'NpzFile' object has no attribute 'shape'",
     "output_type": "error",
     "traceback": [
      "\u001b[31m---------------------------------------------------------------------------\u001b[39m",
      "\u001b[31mAttributeError\u001b[39m                            Traceback (most recent call last)",
      "\u001b[36mCell\u001b[39m\u001b[36m \u001b[39m\u001b[32mIn[4]\u001b[39m\u001b[32m, line 5\u001b[39m\n\u001b[32m      2\u001b[39m \u001b[38;5;28;01mfrom\u001b[39;00m\u001b[38;5;250m \u001b[39m\u001b[34;01msrc\u001b[39;00m\u001b[34;01m.\u001b[39;00m\u001b[34;01mprocessing\u001b[39;00m\u001b[38;5;250m \u001b[39m\u001b[38;5;28;01mimport\u001b[39;00m simulate\n\u001b[32m      3\u001b[39m \u001b[38;5;28;01mfrom\u001b[39;00m\u001b[38;5;250m \u001b[39m\u001b[34;01msrc\u001b[39;00m\u001b[34;01m.\u001b[39;00m\u001b[34;01mvisualize\u001b[39;00m\u001b[38;5;250m \u001b[39m\u001b[38;5;28;01mimport\u001b[39;00m visualize\n\u001b[32m----> \u001b[39m\u001b[32m5\u001b[39m decks = \u001b[43msample_decks\u001b[49m\u001b[43m(\u001b[49m\u001b[32;43m1000000\u001b[39;49m\u001b[43m,\u001b[49m\u001b[43m \u001b[49m\u001b[33;43m'\u001b[39;49m\u001b[33;43mdata/testing_decks.zip\u001b[39;49m\u001b[33;43m'\u001b[39;49m\u001b[43m)\u001b[49m\n\u001b[32m      6\u001b[39m visualize(simulate(decks))\n",
      "\u001b[36mFile \u001b[39m\u001b[32m~/Desktop/Junior_Year/Spring_2025/Automations_and_Workflows/projects/ProjectPenney/src/datagen.py:73\u001b[39m, in \u001b[36msample_decks\u001b[39m\u001b[34m(n_decks, filename)\u001b[39m\n\u001b[32m     70\u001b[39m \u001b[38;5;28;01melse\u001b[39;00m:\n\u001b[32m     71\u001b[39m     data = np.load(filename, allow_pickle=\u001b[38;5;28;01mTrue\u001b[39;00m)\n\u001b[32m---> \u001b[39m\u001b[32m73\u001b[39m index = np.random.choice(\u001b[43mdata\u001b[49m\u001b[43m.\u001b[49m\u001b[43mshape\u001b[49m[\u001b[32m0\u001b[39m], n_decks, replace=\u001b[38;5;28;01mFalse\u001b[39;00m)  \n\u001b[32m     74\u001b[39m \u001b[38;5;28;01mreturn\u001b[39;00m data[index]\n",
      "\u001b[31mAttributeError\u001b[39m: 'NpzFile' object has no attribute 'shape'"
     ]
    }
   ],
   "source": [
    "from src.datagen import sample_decks\n",
    "from src.processing import simulate\n",
    "from src.visualize import visualize\n",
    "\n",
    "decks = sample_decks(1000000, 'data/testing_decks.zip')\n",
    "visualize(simulate(decks))"
   ]
  },
  {
   "cell_type": "code",
   "execution_count": 5,
   "metadata": {},
   "outputs": [],
   "source": [
    "import numpy as np\n",
    "import os\n",
    "import zipfile\n",
    "import json\n",
    "\n",
    "HALF_DECK_SIZE = 26\n",
    "\n",
    "\n",
    "def get_decks(n_decks: int,\n",
    "              seed: int,\n",
    "              half_deck_size: int = HALF_DECK_SIZE) -> np.ndarray:\n",
    "    \"\"\"\n",
    "    Efficiently generates `n_decks` shuffled decks using NumPy.\n",
    "    Saves the details of the deck in a dictionary in a separate .npy file.\n",
    "\n",
    "    Arguments:\n",
    "        n_decks: Number of decks to generate.\n",
    "        seed: Seed for random number generation.\n",
    "        half_deck_size: Half of the number of cards in the deck (default is 26).\n",
    "    \n",
    "    Returns:\n",
    "        decks (np.ndarray): 2D array of shape (n_decks, num_cards), each row is a shuffled deck.\n",
    "    \"\"\"\n",
    "    # Create a filename based on the seed\n",
    "    filename = 'data/decks_'+str(seed)+'.npy'\n",
    "\n",
    "    # Check if the file already exists\n",
    "    if filename in os.listdir('data/'):\n",
    "        print(f\"A file with seed {seed} already exists. Choose another seed.\")\n",
    "        return\n",
    "    else:\n",
    "        init_deck = [0]*half_deck_size + [1]*half_deck_size\n",
    "        decks = np.tile(init_deck, (n_decks, 1))\n",
    "        rng = np.random.default_rng(seed)\n",
    "        rng.permuted(decks, axis=1, out=decks)\n",
    "        np.save(filename, decks)\n",
    "\n",
    "        # Save the deck information in a dictionry and write it to a JSON file\n",
    "        deck_dict = dict(n_decks = n_decks,\n",
    "                        seed = seed,\n",
    "                        half_deck_size = half_deck_size,\n",
    "                        decks = filename)\n",
    "        with open(f'data/{filename}_dict.json', 'w') as file:\n",
    "            json.dump(deck_dict, file, indent=4)\n",
    "        return decks\n",
    "\n",
    "def sample_decks(n_decks: int = None,\n",
    "                 filename: str = 'data/testing_decks.zip'\n",
    "                 )-> np.ndarray:\n",
    "    \"\"\"\n",
    "    Takes a sample of size 'n_decks' from previously generated decks.\n",
    "    Users can use the testing_decks.zip file instead of creating new decks.\n",
    "\n",
    "    Arguments:\n",
    "        n_decks: The sample size of decks. If nothing is passed, it will default to the all decks in the file.\n",
    "        filename: The name of the file holding the decks (default is 'testing_decks.zip').\n",
    "\n",
    "    Returns:\n",
    "        np.ndarray: A sample of decks.\n",
    "    \"\"\"\n",
    "    # Check if a n_decks value is provided\n",
    "    if n_decks is None:\n",
    "        n_decks = len(np.load(filename, allow_pickle=True))\n",
    "\n",
    "    # Check if the user wants to use the testing_decks.zip file\n",
    "    if filename == 'data/testing_decks.zip':\n",
    "        with zipfile.ZipFile(filename, 'r') as myzip:\n",
    "            with myzip.open('data/testing_decks.zip') as myfile:\n",
    "                data = np.load(myfile)\n",
    "    else:\n",
    "        data = np.load(filename, allow_pickle=True)\n",
    "    \n",
    "    index = np.random.choice(data, n_decks, replace=False)  \n",
    "    return data[index]\n"
   ]
  },
  {
   "cell_type": "code",
   "execution_count": 6,
   "metadata": {},
   "outputs": [
    {
     "ename": "KeyError",
     "evalue": "\"There is no item named 'data/testing_decks.zip' in the archive\"",
     "output_type": "error",
     "traceback": [
      "\u001b[31m---------------------------------------------------------------------------\u001b[39m",
      "\u001b[31mKeyError\u001b[39m                                  Traceback (most recent call last)",
      "\u001b[36mCell\u001b[39m\u001b[36m \u001b[39m\u001b[32mIn[6]\u001b[39m\u001b[32m, line 1\u001b[39m\n\u001b[32m----> \u001b[39m\u001b[32m1\u001b[39m decks = \u001b[43msample_decks\u001b[49m\u001b[43m(\u001b[49m\u001b[32;43m1000000\u001b[39;49m\u001b[43m,\u001b[49m\u001b[43m \u001b[49m\u001b[33;43m'\u001b[39;49m\u001b[33;43mdata/testing_decks.zip\u001b[39;49m\u001b[33;43m'\u001b[39;49m\u001b[43m)\u001b[49m\n\u001b[32m      2\u001b[39m visualize(simulate(decks))\n",
      "\u001b[36mCell\u001b[39m\u001b[36m \u001b[39m\u001b[32mIn[5]\u001b[39m\u001b[32m, line 68\u001b[39m, in \u001b[36msample_decks\u001b[39m\u001b[34m(n_decks, filename)\u001b[39m\n\u001b[32m     66\u001b[39m \u001b[38;5;28;01mif\u001b[39;00m filename == \u001b[33m'\u001b[39m\u001b[33mdata/testing_decks.zip\u001b[39m\u001b[33m'\u001b[39m:\n\u001b[32m     67\u001b[39m     \u001b[38;5;28;01mwith\u001b[39;00m zipfile.ZipFile(filename, \u001b[33m'\u001b[39m\u001b[33mr\u001b[39m\u001b[33m'\u001b[39m) \u001b[38;5;28;01mas\u001b[39;00m myzip:\n\u001b[32m---> \u001b[39m\u001b[32m68\u001b[39m         \u001b[38;5;28;01mwith\u001b[39;00m \u001b[43mmyzip\u001b[49m\u001b[43m.\u001b[49m\u001b[43mopen\u001b[49m\u001b[43m(\u001b[49m\u001b[33;43m'\u001b[39;49m\u001b[33;43mdata/testing_decks.zip\u001b[39;49m\u001b[33;43m'\u001b[39;49m\u001b[43m)\u001b[49m \u001b[38;5;28;01mas\u001b[39;00m myfile:\n\u001b[32m     69\u001b[39m             data = np.load(myfile)\n\u001b[32m     70\u001b[39m \u001b[38;5;28;01melse\u001b[39;00m:\n",
      "\u001b[36mFile \u001b[39m\u001b[32m/Library/Frameworks/Python.framework/Versions/3.12/lib/python3.12/zipfile/__init__.py:1609\u001b[39m, in \u001b[36mZipFile.open\u001b[39m\u001b[34m(self, name, mode, pwd, force_zip64)\u001b[39m\n\u001b[32m   1606\u001b[39m     zinfo._compresslevel = \u001b[38;5;28mself\u001b[39m.compresslevel\n\u001b[32m   1607\u001b[39m \u001b[38;5;28;01melse\u001b[39;00m:\n\u001b[32m   1608\u001b[39m     \u001b[38;5;66;03m# Get info object for name\u001b[39;00m\n\u001b[32m-> \u001b[39m\u001b[32m1609\u001b[39m     zinfo = \u001b[38;5;28;43mself\u001b[39;49m\u001b[43m.\u001b[49m\u001b[43mgetinfo\u001b[49m\u001b[43m(\u001b[49m\u001b[43mname\u001b[49m\u001b[43m)\u001b[49m\n\u001b[32m   1611\u001b[39m \u001b[38;5;28;01mif\u001b[39;00m mode == \u001b[33m'\u001b[39m\u001b[33mw\u001b[39m\u001b[33m'\u001b[39m:\n\u001b[32m   1612\u001b[39m     \u001b[38;5;28;01mreturn\u001b[39;00m \u001b[38;5;28mself\u001b[39m._open_to_write(zinfo, force_zip64=force_zip64)\n",
      "\u001b[36mFile \u001b[39m\u001b[32m/Library/Frameworks/Python.framework/Versions/3.12/lib/python3.12/zipfile/__init__.py:1537\u001b[39m, in \u001b[36mZipFile.getinfo\u001b[39m\u001b[34m(self, name)\u001b[39m\n\u001b[32m   1535\u001b[39m info = \u001b[38;5;28mself\u001b[39m.NameToInfo.get(name)\n\u001b[32m   1536\u001b[39m \u001b[38;5;28;01mif\u001b[39;00m info \u001b[38;5;129;01mis\u001b[39;00m \u001b[38;5;28;01mNone\u001b[39;00m:\n\u001b[32m-> \u001b[39m\u001b[32m1537\u001b[39m     \u001b[38;5;28;01mraise\u001b[39;00m \u001b[38;5;167;01mKeyError\u001b[39;00m(\n\u001b[32m   1538\u001b[39m         \u001b[33m'\u001b[39m\u001b[33mThere is no item named \u001b[39m\u001b[38;5;132;01m%r\u001b[39;00m\u001b[33m in the archive\u001b[39m\u001b[33m'\u001b[39m % name)\n\u001b[32m   1540\u001b[39m \u001b[38;5;28;01mreturn\u001b[39;00m info\n",
      "\u001b[31mKeyError\u001b[39m: \"There is no item named 'data/testing_decks.zip' in the archive\""
     ]
    }
   ],
   "source": [
    "decks = sample_decks(1000000, 'data/testing_decks.zip')\n",
    "visualize(simulate(decks))"
   ]
  },
  {
   "cell_type": "code",
   "execution_count": 9,
   "metadata": {},
   "outputs": [],
   "source": [
    "filename = 'test_decks'\n",
    "init_deck = [0]*26 + [1]*26\n",
    "decks = np.tile(init_deck, (1000000, 1))\n",
    "rng = np.random.default_rng(440)\n",
    "rng.permuted(decks, axis=1, out=decks)\n",
    "np.save(f'data/{filename}.npy', decks)\n"
   ]
  },
  {
   "cell_type": "code",
   "execution_count": 10,
   "metadata": {},
   "outputs": [],
   "source": [
    "\n",
    "# Save the deck information in a dictionry and write it to a JSON file\n",
    "deck_dict = dict(n_decks = 1000000,\n",
    "                seed = 440,\n",
    "                half_deck_size = 26,\n",
    "                decks = filename)\n",
    "with open(f'data/{filename}_dict.json', 'w') as file:\n",
    "    json.dump(deck_dict, file, indent=4)"
   ]
  },
  {
   "cell_type": "code",
   "execution_count": null,
   "metadata": {},
   "outputs": [],
   "source": []
  }
 ],
 "metadata": {
  "kernelspec": {
   "display_name": ".venv",
   "language": "python",
   "name": "python3"
  },
  "language_info": {
   "codemirror_mode": {
    "name": "ipython",
    "version": 3
   },
   "file_extension": ".py",
   "mimetype": "text/x-python",
   "name": "python",
   "nbconvert_exporter": "python",
   "pygments_lexer": "ipython3",
   "version": "3.12.9"
  }
 },
 "nbformat": 4,
 "nbformat_minor": 2
}
