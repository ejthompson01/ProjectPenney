{
 "cells": [
  {
   "cell_type": "code",
   "execution_count": 15,
   "metadata": {},
   "outputs": [
    {
     "ename": "KeyboardInterrupt",
     "evalue": "",
     "output_type": "error",
     "traceback": [
      "\u001b[31m---------------------------------------------------------------------------\u001b[39m",
      "\u001b[31mKeyboardInterrupt\u001b[39m                         Traceback (most recent call last)",
      "\u001b[36mCell\u001b[39m\u001b[36m \u001b[39m\u001b[32mIn[15]\u001b[39m\u001b[32m, line 6\u001b[39m\n\u001b[32m      3\u001b[39m \u001b[38;5;28;01mfrom\u001b[39;00m\u001b[38;5;250m \u001b[39m\u001b[34;01msrc\u001b[39;00m\u001b[34;01m.\u001b[39;00m\u001b[34;01mvisualize\u001b[39;00m\u001b[38;5;250m \u001b[39m\u001b[38;5;28;01mimport\u001b[39;00m visualize\n\u001b[32m      5\u001b[39m decks = sample_decks(\u001b[32m1000000\u001b[39m, \u001b[33m'\u001b[39m\u001b[33mdata/test_decks.npy\u001b[39m\u001b[33m'\u001b[39m)\n\u001b[32m----> \u001b[39m\u001b[32m6\u001b[39m visualize(\u001b[43msimulate\u001b[49m\u001b[43m(\u001b[49m\u001b[43mdecks\u001b[49m\u001b[43m)\u001b[49m)\n",
      "\u001b[36mFile \u001b[39m\u001b[32m~/Desktop/Junior_Year/Spring_2025/Automations_and_Workflows/projects/ProjectPenney/src/processing.py:115\u001b[39m, in \u001b[36msimulate\u001b[39m\u001b[34m(deck)\u001b[39m\n\u001b[32m    112\u001b[39m \u001b[38;5;66;03m# If Player 1 and Player 2 choose different options,\u001b[39;00m\n\u001b[32m    113\u001b[39m \u001b[38;5;66;03m# play the game and add the probabilities to the internal counters\u001b[39;00m\n\u001b[32m    114\u001b[39m \u001b[38;5;28;01melif\u001b[39;00m p1_choice != p2_choice:\n\u001b[32m--> \u001b[39m\u001b[32m115\u001b[39m         win_tricks, draw_tricks, win_cards, draw_cards = \u001b[43mgame\u001b[49m\u001b[43m(\u001b[49m\u001b[43mp1_choice\u001b[49m\u001b[43m,\u001b[49m\u001b[43m \u001b[49m\u001b[43mp2_choice\u001b[49m\u001b[43m,\u001b[49m\u001b[43m \u001b[49m\u001b[43mdeck\u001b[49m\u001b[43m)\u001b[49m\n\u001b[32m    117\u001b[39m         \u001b[38;5;66;03m# Add probabilities to the internal counters\u001b[39;00m\n\u001b[32m    118\u001b[39m         prob_tricks.append(win_tricks)\n",
      "\u001b[36mFile \u001b[39m\u001b[32m~/Desktop/Junior_Year/Spring_2025/Automations_and_Workflows/projects/ProjectPenney/src/processing.py:50\u001b[39m, in \u001b[36mgame\u001b[39m\u001b[34m(p1_choice, p2_choice, decks)\u001b[39m\n\u001b[32m     48\u001b[39m     p1_tricks += \u001b[32m1\u001b[39m\n\u001b[32m     49\u001b[39m     p1_cards += \u001b[38;5;28mlen\u001b[39m(trick)\n\u001b[32m---> \u001b[39m\u001b[32m50\u001b[39m     trick = [] \u001b[38;5;66;03m# Refresh the trick\u001b[39;00m\n\u001b[32m     52\u001b[39m \u001b[38;5;66;03m# Check for a Player 2 trick\u001b[39;00m\n\u001b[32m     53\u001b[39m \u001b[38;5;28;01melif\u001b[39;00m last_three == \u001b[38;5;28mlist\u001b[39m(p2_choice): \u001b[38;5;66;03m# If p2 wins, update p1's trick and card counts and refresh trick\u001b[39;00m\n",
      "\u001b[31mKeyboardInterrupt\u001b[39m: "
     ]
    }
   ],
   "source": [
    "from src.datagen import sample_decks\n",
    "from src.processing import simulate\n",
    "from src.visualize import visualize\n",
    "\n",
    "decks = sample_decks(1000000, 'data/test_decks.npy')\n",
    "visualize(simulate(decks))"
   ]
  },
  {
   "cell_type": "code",
   "execution_count": null,
   "metadata": {},
   "outputs": [],
   "source": []
  }
 ],
 "metadata": {
  "kernelspec": {
   "display_name": ".venv",
   "language": "python",
   "name": "python3"
  },
  "language_info": {
   "codemirror_mode": {
    "name": "ipython",
    "version": 3
   },
   "file_extension": ".py",
   "mimetype": "text/x-python",
   "name": "python",
   "nbconvert_exporter": "python",
   "pygments_lexer": "ipython3",
   "version": "3.12.9"
  }
 },
 "nbformat": 4,
 "nbformat_minor": 2
}
